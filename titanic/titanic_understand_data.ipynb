{
 "cells": [
  {
   "cell_type": "code",
   "execution_count": 13,
   "metadata": {
    "collapsed": false
   },
   "outputs": [],
   "source": [
    "from __future__ import print_function\n",
    "import pandas as pd\n",
    "import matplotlib.pyplot as plt\n",
    "%matplotlib inline  "
   ]
  },
  {
   "cell_type": "code",
   "execution_count": 3,
   "metadata": {
    "collapsed": false
   },
   "outputs": [
    {
     "data": {
      "text/html": [
       "<div>\n",
       "<table border=\"1\" class=\"dataframe\">\n",
       "  <thead>\n",
       "    <tr style=\"text-align: right;\">\n",
       "      <th></th>\n",
       "      <th>PassengerId</th>\n",
       "      <th>Survived</th>\n",
       "      <th>Pclass</th>\n",
       "      <th>Name</th>\n",
       "      <th>Sex</th>\n",
       "      <th>Age</th>\n",
       "      <th>SibSp</th>\n",
       "      <th>Parch</th>\n",
       "      <th>Ticket</th>\n",
       "      <th>Fare</th>\n",
       "      <th>Cabin</th>\n",
       "      <th>Embarked</th>\n",
       "    </tr>\n",
       "  </thead>\n",
       "  <tbody>\n",
       "    <tr>\n",
       "      <th>0</th>\n",
       "      <td>1</td>\n",
       "      <td>0</td>\n",
       "      <td>3</td>\n",
       "      <td>Braund, Mr. Owen Harris</td>\n",
       "      <td>male</td>\n",
       "      <td>22.0</td>\n",
       "      <td>1</td>\n",
       "      <td>0</td>\n",
       "      <td>A/5 21171</td>\n",
       "      <td>7.2500</td>\n",
       "      <td>NaN</td>\n",
       "      <td>S</td>\n",
       "    </tr>\n",
       "    <tr>\n",
       "      <th>1</th>\n",
       "      <td>2</td>\n",
       "      <td>1</td>\n",
       "      <td>1</td>\n",
       "      <td>Cumings, Mrs. John Bradley (Florence Briggs Th...</td>\n",
       "      <td>female</td>\n",
       "      <td>38.0</td>\n",
       "      <td>1</td>\n",
       "      <td>0</td>\n",
       "      <td>PC 17599</td>\n",
       "      <td>71.2833</td>\n",
       "      <td>C85</td>\n",
       "      <td>C</td>\n",
       "    </tr>\n",
       "    <tr>\n",
       "      <th>2</th>\n",
       "      <td>3</td>\n",
       "      <td>1</td>\n",
       "      <td>3</td>\n",
       "      <td>Heikkinen, Miss. Laina</td>\n",
       "      <td>female</td>\n",
       "      <td>26.0</td>\n",
       "      <td>0</td>\n",
       "      <td>0</td>\n",
       "      <td>STON/O2. 3101282</td>\n",
       "      <td>7.9250</td>\n",
       "      <td>NaN</td>\n",
       "      <td>S</td>\n",
       "    </tr>\n",
       "    <tr>\n",
       "      <th>3</th>\n",
       "      <td>4</td>\n",
       "      <td>1</td>\n",
       "      <td>1</td>\n",
       "      <td>Futrelle, Mrs. Jacques Heath (Lily May Peel)</td>\n",
       "      <td>female</td>\n",
       "      <td>35.0</td>\n",
       "      <td>1</td>\n",
       "      <td>0</td>\n",
       "      <td>113803</td>\n",
       "      <td>53.1000</td>\n",
       "      <td>C123</td>\n",
       "      <td>S</td>\n",
       "    </tr>\n",
       "    <tr>\n",
       "      <th>4</th>\n",
       "      <td>5</td>\n",
       "      <td>0</td>\n",
       "      <td>3</td>\n",
       "      <td>Allen, Mr. William Henry</td>\n",
       "      <td>male</td>\n",
       "      <td>35.0</td>\n",
       "      <td>0</td>\n",
       "      <td>0</td>\n",
       "      <td>373450</td>\n",
       "      <td>8.0500</td>\n",
       "      <td>NaN</td>\n",
       "      <td>S</td>\n",
       "    </tr>\n",
       "  </tbody>\n",
       "</table>\n",
       "</div>"
      ],
      "text/plain": [
       "   PassengerId  Survived  Pclass  \\\n",
       "0            1         0       3   \n",
       "1            2         1       1   \n",
       "2            3         1       3   \n",
       "3            4         1       1   \n",
       "4            5         0       3   \n",
       "\n",
       "                                                Name     Sex   Age  SibSp  \\\n",
       "0                            Braund, Mr. Owen Harris    male  22.0      1   \n",
       "1  Cumings, Mrs. John Bradley (Florence Briggs Th...  female  38.0      1   \n",
       "2                             Heikkinen, Miss. Laina  female  26.0      0   \n",
       "3       Futrelle, Mrs. Jacques Heath (Lily May Peel)  female  35.0      1   \n",
       "4                           Allen, Mr. William Henry    male  35.0      0   \n",
       "\n",
       "   Parch            Ticket     Fare Cabin Embarked  \n",
       "0      0         A/5 21171   7.2500   NaN        S  \n",
       "1      0          PC 17599  71.2833   C85        C  \n",
       "2      0  STON/O2. 3101282   7.9250   NaN        S  \n",
       "3      0            113803  53.1000  C123        S  \n",
       "4      0            373450   8.0500   NaN        S  "
      ]
     },
     "execution_count": 3,
     "metadata": {},
     "output_type": "execute_result"
    }
   ],
   "source": [
    "train_df = pd.read_csv('train.csv', header = 0)\n",
    "train_df.head()"
   ]
  },
  {
   "cell_type": "code",
   "execution_count": 4,
   "metadata": {
    "collapsed": false
   },
   "outputs": [
    {
     "name": "stdout",
     "output_type": "stream",
     "text": [
      "<class 'pandas.core.frame.DataFrame'>\n",
      "RangeIndex: 891 entries, 0 to 890\n",
      "Data columns (total 12 columns):\n",
      "PassengerId    891 non-null int64\n",
      "Survived       891 non-null int64\n",
      "Pclass         891 non-null int64\n",
      "Name           891 non-null object\n",
      "Sex            891 non-null object\n",
      "Age            714 non-null float64\n",
      "SibSp          891 non-null int64\n",
      "Parch          891 non-null int64\n",
      "Ticket         891 non-null object\n",
      "Fare           891 non-null float64\n",
      "Cabin          204 non-null object\n",
      "Embarked       889 non-null object\n",
      "dtypes: float64(2), int64(5), object(5)\n",
      "memory usage: 83.6+ KB\n"
     ]
    }
   ],
   "source": [
    "'''\n",
    "Check the general info of the data\n",
    "Note that we need to:\n",
    "1. Fill out missing data (e.g., \"Age\", \"Cabin\", and \"Embarked\") \n",
    "2. Decide which features we are going to use\n",
    "3. Convert useful objects to numerical values\n",
    "'''\n",
    "train_df.info()"
   ]
  },
  {
   "cell_type": "code",
   "execution_count": 39,
   "metadata": {
    "collapsed": false
   },
   "outputs": [
    {
     "data": {
      "image/png": "[encoded data removed]",
      "text/plain": [
       "<matplotlib.figure.Figure at 0x11a99d350>"
      ]
     },
     "metadata": {},
     "output_type": "display_data"
    }
   ],
   "source": [
    "# Explore class\n",
    "survive_class = train_df.Pclass[train_df['Survived'] == 1]\n",
    "dead_class = train_df.Pclass[train_df['Survived'] == 0]\n",
    "plt.hist(survive_class, bins = 3, alpha = 0.5, color = 'b', label = 'Survived')\n",
    "plt.hist(dead_class, bins = 3,  alpha = 0.5, color = 'r', label = 'Dead')\n",
    "plt.legend(loc = 'upper left')\n",
    "plt.xlabel('Class Number')\n",
    "plt.ylabel('Number of People')\n",
    "plt.grid(True)\n",
    "\n",
    "# Higher class has a lower survival rate"
   ]
  },
  {
   "cell_type": "code",
   "execution_count": 25,
   "metadata": {
    "collapsed": false
   },
   "outputs": [
    {
     "name": "stdout",
     "output_type": "stream",
     "text": [
      "18.8908145581% of 577 males survived\n",
      "74.2038216561% of 314 females survived\n",
      "38.3838383838% of 891 people survived\n"
     ]
    }
   ],
   "source": [
    "# Explore sex\n",
    "total_male = len(train_df[train_df['Sex'] == 'male'])\n",
    "total_female = len(train_df[train_df['Sex'] == 'female'])\n",
    "survived_male = len(train_df[ (train_df['Sex'] == 'male') & (train_df['Survived'] == 1) ])\n",
    "survived_female = len(train_df[ (train_df['Sex'] == 'female') & (train_df['Survived'] == 1) ])\n",
    "\n",
    "print (str(survived_male/float(total_male) * 100) + '% of ' + str(total_male) + ' males survived')\n",
    "print (str(survived_female/float(total_female) * 100) + '% of ' + str(total_female) + ' females survived')\n",
    "print (str((survived_male + survived_female)/float(total_male + total_female) * 100) +\n",
    "       '% of ' + str(total_male + total_female) + ' people survived')\n",
    "\n",
    "# Way more females survived than males"
   ]
  },
  {
   "cell_type": "code",
   "execution_count": 40,
   "metadata": {
    "collapsed": false
   },
   "outputs": [
    {
     "data": {
      "image/png": "[encoded data removed]",
      "text/plain": [
       "<matplotlib.figure.Figure at 0x11a5a8290>"
      ]
     },
     "metadata": {},
     "output_type": "display_data"
    }
   ],
   "source": [
    "# Explore age\n",
    "survived_age = train_df.Age[(train_df['Survived'] == 1) &\n",
    "                            (~pd.isnull(train_df['Age']))]\n",
    "dead_age = train_df.Age[(train_df['Survived'] == 0) &\n",
    "                            (~pd.isnull(train_df['Age']))]\n",
    "plt.hist(survived_age, bins = 20, alpha = 0.5, color = 'b', label = 'Survived')\n",
    "plt.hist(dead_age, bins = 20, alpha = 0.5, color = 'r', label = 'Dead')\n",
    "plt.legend(loc = 'upper right')\n",
    "plt.xlabel('Age')\n",
    "plt.ylabel('Number of People')\n",
    "plt.grid(True)\n",
    "\n",
    "# Age does not impact survival that much except the babies tend to survive more"
   ]
  },
  {
   "cell_type": "code",
   "execution_count": 41,
   "metadata": {
    "collapsed": false
   },
   "outputs": [
    {
     "data": {
      "image/png": "[encoded data removed]",
      "text/plain": [
       "<matplotlib.figure.Figure at 0x11a5bc6d0>"
      ]
     },
     "metadata": {},
     "output_type": "display_data"
    }
   ],
   "source": [
    "# Explore ticket fare\n",
    "survived_fare = train_df.Fare[train_df['Survived'] == 1]\n",
    "dead_fare = train_df.Fare[train_df['Survived'] == 0]\n",
    "plt.hist(survived_fare, bins = 15, alpha = 0.5, color = 'b', label = 'Survived')\n",
    "plt.hist(dead_fare, bins = 15, alpha = 0.5, color = 'r', label = 'Dead')\n",
    "plt.legend(loc = 'upper right')\n",
    "plt.grid(True)\n",
    "\n",
    "# People with higher ticket fare have a higher survival rate"
   ]
  },
  {
   "cell_type": "code",
   "execution_count": null,
   "metadata": {
    "collapsed": true
   },
   "outputs": [],
   "source": [
    "# Explore embarked\n",
    "for i in {'S', 'C', 'Q'}\n",
    "    "
   ]
  },
  {
   "cell_type": "code",
   "execution_count": null,
   "metadata": {
    "collapsed": true
   },
   "outputs": [],
   "source": [
    "def clean_df(df):\n",
    "    df['Age'] = df['Age'].fillna(df.Age.median())\n",
    "    df['Embarked'] = df['Embarked'].fillna('S')\n",
    "    df['Gender'] = df['Sex'].map({'female':0, 'male':1}).astype(int)\n",
    "    df['Family'] = df['Parch'] + df['SibSp']\n",
    "    df['Fare'] = df['Fare'].fillna(df['Fare'].mean())\n",
    "    df = df.drop(['SibSp','Parch','Name','Sex','Ticket','Cabin','Embarked'],axis=1)\n",
    "    return clean_df"
   ]
  },
  {
   "cell_type": "code",
   "execution_count": 18,
   "metadata": {
    "collapsed": false
   },
   "outputs": [
    {
     "name": "stdout",
     "output_type": "stream",
     "text": [
      "<class 'pandas.core.frame.DataFrame'>\n",
      "RangeIndex: 418 entries, 0 to 417\n",
      "Data columns (total 11 columns):\n",
      "PassengerId    418 non-null int64\n",
      "Pclass         418 non-null int64\n",
      "Name           418 non-null object\n",
      "Sex            418 non-null object\n",
      "Age            332 non-null float64\n",
      "SibSp          418 non-null int64\n",
      "Parch          418 non-null int64\n",
      "Ticket         418 non-null object\n",
      "Fare           417 non-null float64\n",
      "Cabin          91 non-null object\n",
      "Embarked       418 non-null object\n",
      "dtypes: float64(2), int64(4), object(5)\n",
      "memory usage: 36.0+ KB\n"
     ]
    }
   ],
   "source": [
    "# Let us also prepare the test data in similar format as we did for train_data\n",
    "titanic_test_df = pd.read_csv('test.csv',header=0)\n",
    "titanic_test_df.info()"
   ]
  },
  {
   "cell_type": "code",
   "execution_count": 20,
   "metadata": {
    "collapsed": false
   },
   "outputs": [
    {
     "name": "stdout",
     "output_type": "stream",
     "text": [
      "<class 'pandas.core.frame.DataFrame'>\n",
      "RangeIndex: 418 entries, 0 to 417\n",
      "Data columns (total 6 columns):\n",
      "PassengerId    418 non-null int64\n",
      "Pclass         418 non-null int64\n",
      "Age            418 non-null float64\n",
      "Fare           418 non-null float64\n",
      "Gender         418 non-null int64\n",
      "Family         418 non-null int64\n",
      "dtypes: float64(2), int64(4)\n",
      "memory usage: 19.7 KB\n"
     ]
    }
   ],
   "source": [
    "test_df = clean_up_df(titanic_test_df)\n",
    "test_df.info()"
   ]
  },
  {
   "cell_type": "code",
   "execution_count": 24,
   "metadata": {
    "collapsed": false
   },
   "outputs": [
    {
     "data": {
      "text/plain": [
       "0.80134680134680136"
      ]
     },
     "execution_count": 24,
     "metadata": {},
     "output_type": "execute_result"
    }
   ],
   "source": [
    "# Logistic Regression \n",
    "logistic = linear_model.LogisticRegression()\n",
    "X = train_data.drop(['PassengerId','Survived'],axis=1)\n",
    "y = train_data['Survived']\n",
    "logistic.fit(X,y)\n",
    "logistic.score(X, y)"
   ]
  },
  {
   "cell_type": "code",
   "execution_count": 26,
   "metadata": {
    "collapsed": false
   },
   "outputs": [
    {
     "name": "stdout",
     "output_type": "stream",
     "text": [
      "<class 'pandas.core.frame.DataFrame'>\n",
      "RangeIndex: 418 entries, 0 to 417\n",
      "Data columns (total 5 columns):\n",
      "Pclass    418 non-null int64\n",
      "Age       418 non-null float64\n",
      "Fare      418 non-null float64\n",
      "Gender    418 non-null int64\n",
      "Family    418 non-null int64\n",
      "dtypes: float64(2), int64(3)\n",
      "memory usage: 16.4 KB\n"
     ]
    }
   ],
   "source": [
    "X_test = test_df.drop(['PassengerId'],axis=1)\n",
    "X_test.info()"
   ]
  },
  {
   "cell_type": "code",
   "execution_count": 27,
   "metadata": {
    "collapsed": true
   },
   "outputs": [],
   "source": [
    "y_pred = logistic.predict(X_test)"
   ]
  },
  {
   "cell_type": "code",
   "execution_count": 28,
   "metadata": {
    "collapsed": false
   },
   "outputs": [
    {
     "data": {
      "text/plain": [
       "0.97979797979797978"
      ]
     },
     "execution_count": 28,
     "metadata": {},
     "output_type": "execute_result"
    }
   ],
   "source": [
    "# Random Forests \n",
    "random_forest = ensemble.RandomForestClassifier(n_estimators=100)\n",
    "random_forest.fit(X,y)\n",
    "y_pred = random_forest.predict(X_test)\n",
    "random_forest.score(X,y)"
   ]
  },
  {
   "cell_type": "code",
   "execution_count": 29,
   "metadata": {
    "collapsed": true
   },
   "outputs": [],
   "source": [
    "submission = pd.DataFrame({\n",
    "        \"PassengerId\":test_df['PassengerId'],\n",
    "        \"Survived\":y_pred\n",
    "    })\n",
    "submission.to_csv('titanic.csv',index=False)"
   ]
  },
  {
   "cell_type": "code",
   "execution_count": null,
   "metadata": {
    "collapsed": true
   },
   "outputs": [],
   "source": []
  }
 ],
 "metadata": {
  "kernelspec": {
   "display_name": "Python 2",
   "language": "python",
   "name": "python2"
  },
  "language_info": {
   "codemirror_mode": {
    "name": "ipython",
    "version": 2
   },
   "file_extension": ".py",
   "mimetype": "text/x-python",
   "name": "python",
   "nbconvert_exporter": "python",
   "pygments_lexer": "ipython2",
   "version": "2.7.12"
  }
 },
 "nbformat": 4,
 "nbformat_minor": 0
}
