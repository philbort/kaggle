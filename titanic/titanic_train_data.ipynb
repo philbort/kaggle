{
 "cells": [
  {
   "cell_type": "code",
   "execution_count": null,
   "metadata": {
    "collapsed": true
   },
   "outputs": [],
   "source": [
    "def clean_df(df):\n",
    "    df['Age'] = df['Age'].fillna(df.Age.median())\n",
    "    df['Embarked'] = df['Embarked'].fillna('S')\n",
    "    df['Gender'] = df['Sex'].map({'female':0, 'male':1}).astype(int)\n",
    "    df['Family'] = df['Parch'] + df['SibSp']\n",
    "    df['Fare'] = df['Fare'].fillna(df['Fare'].mean())\n",
    "    df = df.drop(['SibSp','Parch','Name','Sex','Ticket','Cabin','Embarked'],axis=1)\n",
    "    return clean_df\n",
    "\n",
    "# Let us also prepare the test data in similar format as we did for train_data\n",
    "titanic_test_df = pd.read_csv('test.csv',header=0)\n",
    "titanic_test_df.info()\n",
    "\n",
    "test_df = clean_up_df(titanic_test_df)\n",
    "test_df.info()\n",
    "\n",
    "# Logistic Regression \n",
    "logistic = linear_model.LogisticRegression()\n",
    "X = train_data.drop(['PassengerId','Survived'],axis=1)\n",
    "y = train_data['Survived']\n",
    "logistic.fit(X,y)\n",
    "logistic.score(X, y)\n",
    "\n",
    "\n",
    "X_test = test_df.drop(['PassengerId'],axis=1)\n",
    "X_test.info()\n",
    "\n",
    "y_pred = logistic.predict(X_test)\n",
    "\n",
    "# Random Forests \n",
    "random_forest = ensemble.RandomForestClassifier(n_estimators=100)\n",
    "random_forest.fit(X,y)\n",
    "y_pred = random_forest.predict(X_test)\n",
    "random_forest.score(X,y)\n",
    "\n",
    "submission = pd.DataFrame({\n",
    "        \"PassengerId\":test_df['PassengerId'],\n",
    "        \"Survived\":y_pred\n",
    "    })\n",
    "submission.to_csv('titanic.csv',index=False)"
   ]
  }
 ],
 "metadata": {
  "kernelspec": {
   "display_name": "Python 2",
   "language": "python",
   "name": "python2"
  },
  "language_info": {
   "codemirror_mode": {
    "name": "ipython",
    "version": 2
   },
   "file_extension": ".py",
   "mimetype": "text/x-python",
   "name": "python",
   "nbconvert_exporter": "python",
   "pygments_lexer": "ipython2",
   "version": "2.7.12"
  }
 },
 "nbformat": 4,
 "nbformat_minor": 0
}
