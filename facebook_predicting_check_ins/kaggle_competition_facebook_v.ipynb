{
 "cells": [
  {
   "cell_type": "code",
   "execution_count": 1,
   "metadata": {
    "collapsed": false
   },
   "outputs": [
    {
     "data": {
      "text/html": [
       "<div>\n",
       "<table border=\"1\" class=\"dataframe\">\n",
       "  <thead>\n",
       "    <tr style=\"text-align: right;\">\n",
       "      <th></th>\n",
       "      <th>x</th>\n",
       "      <th>y</th>\n",
       "      <th>accuracy</th>\n",
       "      <th>time</th>\n",
       "      <th>place_id</th>\n",
       "    </tr>\n",
       "  </thead>\n",
       "  <tbody>\n",
       "    <tr>\n",
       "      <th>0</th>\n",
       "      <td>0.7941</td>\n",
       "      <td>9.0809</td>\n",
       "      <td>54</td>\n",
       "      <td>470702</td>\n",
       "      <td>8523065625</td>\n",
       "    </tr>\n",
       "    <tr>\n",
       "      <th>1</th>\n",
       "      <td>5.9567</td>\n",
       "      <td>4.7968</td>\n",
       "      <td>13</td>\n",
       "      <td>186555</td>\n",
       "      <td>1757726713</td>\n",
       "    </tr>\n",
       "    <tr>\n",
       "      <th>2</th>\n",
       "      <td>8.3078</td>\n",
       "      <td>7.0407</td>\n",
       "      <td>74</td>\n",
       "      <td>322648</td>\n",
       "      <td>1137537235</td>\n",
       "    </tr>\n",
       "    <tr>\n",
       "      <th>...</th>\n",
       "      <td>...</td>\n",
       "      <td>...</td>\n",
       "      <td>...</td>\n",
       "      <td>...</td>\n",
       "      <td>...</td>\n",
       "    </tr>\n",
       "    <tr>\n",
       "      <th>29118018</th>\n",
       "      <td>2.9993</td>\n",
       "      <td>6.3680</td>\n",
       "      <td>67</td>\n",
       "      <td>737758</td>\n",
       "      <td>2838334300</td>\n",
       "    </tr>\n",
       "    <tr>\n",
       "      <th>29118019</th>\n",
       "      <td>4.0637</td>\n",
       "      <td>8.0061</td>\n",
       "      <td>70</td>\n",
       "      <td>764975</td>\n",
       "      <td>1007355847</td>\n",
       "    </tr>\n",
       "    <tr>\n",
       "      <th>29118020</th>\n",
       "      <td>7.4523</td>\n",
       "      <td>2.0871</td>\n",
       "      <td>17</td>\n",
       "      <td>102842</td>\n",
       "      <td>7028698129</td>\n",
       "    </tr>\n",
       "  </tbody>\n",
       "</table>\n",
       "<p>29118021 rows × 5 columns</p>\n",
       "</div>"
      ],
      "text/plain": [
       "               x       y  accuracy    time    place_id\n",
       "0         0.7941  9.0809        54  470702  8523065625\n",
       "1         5.9567  4.7968        13  186555  1757726713\n",
       "2         8.3078  7.0407        74  322648  1137537235\n",
       "...          ...     ...       ...     ...         ...\n",
       "29118018  2.9993  6.3680        67  737758  2838334300\n",
       "29118019  4.0637  8.0061        70  764975  1007355847\n",
       "29118020  7.4523  2.0871        17  102842  7028698129\n",
       "\n",
       "[29118021 rows x 5 columns]"
      ]
     },
     "execution_count": 1,
     "metadata": {},
     "output_type": "execute_result"
    }
   ],
   "source": [
    "# Load the data\n",
    "import pandas as pd\n",
    "\n",
    "\n",
    "# We don't need the row_id in the data set\n",
    "data = pd.read_csv('train.csv')\n",
    "data = data.drop('row_id', axis = 1)\n",
    "pd.options.display.max_rows = 7\n",
    "data"
   ]
  },
  {
   "cell_type": "code",
   "execution_count": 26,
   "metadata": {
    "collapsed": false
   },
   "outputs": [
    {
     "name": "stdout",
     "output_type": "stream",
     "text": [
      "x        min: 0.0  mean: 4.999769830660826  max: 10.0\n",
      "y        min: 0.0  mean: 5.001813928552262  max: 10.0\n",
      "accuracy min: 1  mean: 82.84912494568226  max: 1033\n",
      "---------------------------------------------------\n",
      "There are total 29118021 events\n",
      "There are total 786239 unique time epoches\n",
      "There are total 108390 unique place ids\n",
      "---------------------------------------------------\n",
      "On average there are 37.03456709728212 events per time epoch,\n",
      "                 and 268.6412122889565 events per location\n",
      "1 786239\n"
     ]
    }
   ],
   "source": [
    "'''\n",
    "Get some general ideas about the training data set\n",
    "'''\n",
    "\n",
    "print('x        min:', data['x'].min(),\n",
    "              ' mean:', data['x'].mean(),\n",
    "              ' max:', data['x'].max())\n",
    "print('y        min:', data['y'].min(),\n",
    "              ' mean:', data['y'].mean(),\n",
    "              ' max:', data['y'].max())\n",
    "print('accuracy min:', data['accuracy'].min(),\n",
    "              ' mean:', data['accuracy'].mean(),\n",
    "              ' max:', data['accuracy'].max())\n",
    "\n",
    "print('---------------------------------------------------')\n",
    "\n",
    "data_len = len(data)\n",
    "time_unique_len = len(data.time.unique())\n",
    "place_unique_len = len(data.place_id.unique())\n",
    "print('There are total', data_len, 'events')\n",
    "print('There are total', time_unique_len, 'unique time epoches')\n",
    "print('There are total', place_unique_len, 'unique place ids')\n",
    "\n",
    "print('---------------------------------------------------')\n",
    "\n",
    "print('On average there are', data_len/time_unique_len, 'events per time epoch,')\n",
    "print('                 and', data_len/place_unique_len, 'events per location')\n",
    "\n",
    "\n",
    "print(data['time'].min(), data['time'].max())"
   ]
  },
  {
   "cell_type": "code",
   "execution_count": null,
   "metadata": {
    "collapsed": false,
    "scrolled": true
   },
   "outputs": [],
   "source": [
    "%matplotlib inline\n",
    "import matplotlib.pyplot as plt\n",
    "import seaborn as sns\n",
    "import numpy as np\n",
    "\n",
    "sns.plt.rcParams['figure.figsize']=(8,5)\n",
    "sns.distplot(data['accuracy'], kde = True, bins = 100)\n",
    "sns.plt.title('Accuracy Histogram')\n",
    "sns.plt.xlabel('Accuracy')\n",
    "sns.plt.ylabel('frequency')\n"
   ]
  },
  {
   "cell_type": "code",
   "execution_count": 12,
   "metadata": {
    "collapsed": false
   },
   "outputs": [
    {
     "data": {
      "text/plain": [
       "<matplotlib.text.Text at 0x11442fc88>"
      ]
     },
     "execution_count": 12,
     "metadata": {},
     "output_type": "execute_result"
    },
    {
     "data": {
      "image/png": "[encoded data removed]",
      "text/plain": [
       "<matplotlib.figure.Figure at 0x111758fd0>"
      ]
     },
     "metadata": {},
     "output_type": "display_data"
    }
   ],
   "source": [
    "# Choose a subset data for display (the whole thing is huuuuuuuuge)\n",
    "sample_size = 1000\n",
    "sns.plt.scatter(data.x[:sample_size], data.y[:sample_size])\n",
    "sns.plt.title(str(sample_size) + ' Sample Locations')\n",
    "sns.plt.xlabel('X [km]')\n",
    "sns.plt.ylabel('Y [km]')"
   ]
  },
  {
   "cell_type": "code",
   "execution_count": 16,
   "metadata": {
    "collapsed": false
   },
   "outputs": [
    {
     "name": "stdout",
     "output_type": "stream",
     "text": [
      "(1000, 4) (200, 4)\n",
      "               x       y  accuracy    time\n",
      "29117821  6.0633  0.5146        82  396115\n",
      "29117822  4.2070  4.3529        96  473659\n",
      "29117823  8.4635  4.9664       214  262053\n",
      "...          ...     ...       ...     ...\n",
      "29118018  2.9993  6.3680        67  737758\n",
      "29118019  4.0637  8.0061        70  764975\n",
      "29118020  7.4523  2.0871        17  102842\n",
      "\n",
      "[200 rows x 4 columns]\n",
      "29117821    7558188214\n",
      "29117822    8553011522\n",
      "29117823    9994646421\n",
      "               ...    \n",
      "29118018    2838334300\n",
      "29118019    1007355847\n",
      "29118020    7028698129\n",
      "Name: place_id, dtype: int64\n"
     ]
    }
   ],
   "source": [
    "train_data = data[:1000]\n",
    "test_data = data[-200:]\n",
    "\n",
    "x_train = train_data.drop('place_id', axis=1)\n",
    "y_train = train_data.place_id\n",
    "x_test = test_data.drop('place_id',axis=1)\n",
    "y_test = test_data.place_id\n",
    "print(x_train.shape, x_test.shape)\n",
    "print(x_test)\n",
    "print(y_test)"
   ]
  },
  {
   "cell_type": "code",
   "execution_count": 21,
   "metadata": {
    "collapsed": false
   },
   "outputs": [
    {
     "data": {
      "text/plain": [
       "SVC(C=1.0, cache_size=200, class_weight=None, coef0=0.0,\n",
       "  decision_function_shape='ovo', degree=3, gamma='auto', kernel='rbf',\n",
       "  max_iter=-1, probability=False, random_state=None, shrinking=True,\n",
       "  tol=0.001, verbose=False)"
      ]
     },
     "execution_count": 21,
     "metadata": {},
     "output_type": "execute_result"
    }
   ],
   "source": [
    "from sklearn import svm\n",
    "clf = svm.SVC(decision_function_shape = 'ovo')\n",
    "clf.fit(x_train, y_train)"
   ]
  },
  {
   "cell_type": "code",
   "execution_count": 25,
   "metadata": {
    "collapsed": false
   },
   "outputs": [
    {
     "name": "stdout",
     "output_type": "stream",
     "text": [
      "R^2: 1.0\n"
     ]
    },
    {
     "data": {
      "text/plain": [
       "array([9328313378, 9328313378, 9328313378, 9328313378, 9328313378,\n",
       "       9328313378, 9328313378, 9328313378, 9328313378, 9328313378,\n",
       "       9328313378, 9328313378, 9328313378, 9328313378, 9328313378,\n",
       "       9328313378, 9328313378, 9328313378, 9328313378, 9328313378,\n",
       "       9328313378, 9328313378, 9328313378, 9328313378, 9328313378,\n",
       "       9328313378, 9328313378, 9328313378, 9328313378, 9328313378,\n",
       "       9328313378, 9328313378, 9328313378, 9328313378, 9328313378,\n",
       "       9328313378, 9328313378, 9328313378, 9328313378, 9328313378,\n",
       "       9328313378, 9328313378, 9328313378, 9328313378, 9328313378,\n",
       "       9328313378, 9328313378, 9328313378, 9328313378, 9328313378,\n",
       "       9328313378, 9328313378, 9328313378, 9328313378, 9328313378,\n",
       "       9328313378, 9328313378, 9328313378, 9328313378, 9328313378,\n",
       "       9328313378, 9328313378, 9328313378, 9328313378, 9328313378,\n",
       "       9328313378, 9328313378, 9328313378, 9328313378, 9328313378,\n",
       "       9328313378, 9328313378, 9328313378, 9328313378, 9328313378,\n",
       "       9328313378, 9328313378, 9328313378, 9328313378, 9328313378,\n",
       "       9328313378, 9328313378, 9328313378, 9328313378, 9328313378,\n",
       "       9328313378, 9328313378, 9328313378, 9328313378, 9328313378,\n",
       "       9328313378, 9328313378, 9328313378, 9328313378, 9328313378,\n",
       "       9328313378, 9328313378, 9328313378, 9328313378, 9328313378,\n",
       "       9328313378, 9328313378, 9328313378, 9328313378, 9328313378,\n",
       "       9328313378, 9328313378, 9328313378, 9328313378, 9328313378,\n",
       "       9328313378, 9328313378, 9328313378, 9328313378, 9328313378,\n",
       "       9328313378, 9328313378, 9328313378, 9328313378, 9328313378,\n",
       "       9328313378, 9328313378, 9328313378, 9328313378, 9328313378,\n",
       "       9328313378, 9328313378, 9328313378, 9328313378, 9328313378,\n",
       "       9328313378, 9328313378, 9328313378, 9328313378, 9328313378,\n",
       "       9328313378, 9328313378, 9328313378, 9328313378, 9328313378,\n",
       "       9328313378, 9328313378, 9328313378, 9328313378, 9328313378,\n",
       "       9328313378, 9328313378, 9328313378, 9328313378, 9328313378,\n",
       "       9328313378, 9328313378, 9328313378, 9328313378, 9328313378,\n",
       "       9328313378, 9328313378, 9328313378, 9328313378, 9328313378,\n",
       "       9328313378, 9328313378, 9328313378, 9328313378, 9328313378,\n",
       "       9328313378, 9328313378, 9328313378, 9328313378, 9328313378,\n",
       "       9328313378, 9328313378, 9328313378, 9328313378, 9328313378,\n",
       "       9328313378, 9328313378, 9328313378, 9328313378, 9328313378,\n",
       "       9328313378, 9328313378, 9328313378, 9328313378, 9328313378,\n",
       "       9328313378, 9328313378, 9328313378, 9328313378, 9328313378,\n",
       "       9328313378, 9328313378, 9328313378, 9328313378, 9328313378,\n",
       "       9328313378, 9328313378, 9328313378, 9328313378, 9328313378])"
      ]
     },
     "execution_count": 25,
     "metadata": {},
     "output_type": "execute_result"
    }
   ],
   "source": [
    "y_test = clf.predict(x_test)\n",
    "print(\"R^2:\", clf.score(x_test, y_test))\n",
    "y_test"
   ]
  },
  {
   "cell_type": "code",
   "execution_count": null,
   "metadata": {
    "collapsed": true
   },
   "outputs": [],
   "source": []
  }
 ],
 "metadata": {
  "kernelspec": {
   "display_name": "Python 3",
   "language": "python",
   "name": "python3"
  },
  "language_info": {
   "codemirror_mode": {
    "name": "ipython",
    "version": 3
   },
   "file_extension": ".py",
   "mimetype": "text/x-python",
   "name": "python",
   "nbconvert_exporter": "python",
   "pygments_lexer": "ipython3",
   "version": "3.5.1"
  }
 },
 "nbformat": 4,
 "nbformat_minor": 0
}
