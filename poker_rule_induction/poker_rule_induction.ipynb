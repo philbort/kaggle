{
 "cells": [
  {
   "cell_type": "markdown",
   "metadata": {},
   "source": [
    "# Load the training dataset"
   ]
  },
  {
   "cell_type": "code",
   "execution_count": 31,
   "metadata": {
    "collapsed": false
   },
   "outputs": [
    {
     "name": "stdout",
     "output_type": "stream",
     "text": [
      "       S1  C1  S2  C2  S3  C3  S4  C4  S5  C5  hand     id\n",
      "0       4   9   2   1   2   2   4   7   2   8     0      1\n",
      "1       1   4   3   6   1  12   3  11   2   7     0      2\n",
      "2       1  11   4   1   3   7   4  11   2   1     2      3\n",
      "3       2   9   2   4   3   6   1   9   4   9     3      4\n",
      "4       1   8   2   4   2  11   2   2   2   1     0      5\n",
      "...    ..  ..  ..  ..  ..  ..  ..  ..  ..  ..   ...    ...\n",
      "25005   4   9   4   6   3   6   4  12   4   5     1  25006\n",
      "25006   3   8   3   5   4  11   2   2   1  13     0  25007\n",
      "25007   1   8   4   5   3  11   3   2   2  13     0  25008\n",
      "25008   4  12   3   5   2   1   2   7   4   6     0  25009\n",
      "25009   1   1   1   3   1   7   1   2   4   2     1  25010\n",
      "\n",
      "[25010 rows x 12 columns]\n"
     ]
    }
   ],
   "source": [
    "from __future__ import print_function\n",
    "import pandas as pd\n",
    "from sklearn.cross_validation import train_test_split\n",
    "\n",
    "training_data = pd.read_csv(\"train.csv\")\n",
    "training_data['id'] = range(1, len(training_data)+1)\n",
    "pd.set_option('display.max_rows', 10)\n",
    "print(training_data)\n",
    "\n",
    "labels = training_data['hand']\n",
    "features = training_data.drop('hand', axis=1)\n",
    "x_train, x_test, y_train, y_test = train_test_split(features, labels, test_size=0.2, random_state=0)"
   ]
  },
  {
   "cell_type": "code",
   "execution_count": 28,
   "metadata": {
    "collapsed": false
   },
   "outputs": [
    {
     "ename": "ValueError",
     "evalue": "Argument must be a dense tensor:        S1  C1  S2  C2  S3  C3  S4  C4  S5  C5\n10980   2  12   4   6   4   5   1   9   3   2\n20962   1   5   1  13   2   6   3  12   2   1\n17169   2  12   3   1   2  11   1  12   4  13\n9592    4   8   4  10   4   5   1  11   1   9\n4022    1   8   1   4   2  10   2   5   2   9\n...    ..  ..  ..  ..  ..  ..  ..  ..  ..  ..\n13123   4  11   2   5   1   4   1   9   4   7\n19648   1   9   4   3   4   4   2   2   4  13\n9845    4   5   2  12   1  10   3   5   4   4\n10799   4  12   1  13   1   9   3   6   4   8\n2732    1  11   3   5   1  12   4   5   4   2\n\n[20008 rows x 10 columns] - got shape [20008, 10], but wanted [].",
     "output_type": "error",
     "traceback": [
      "\u001b[0;31m---------------------------------------------------------------------------\u001b[0m",
      "\u001b[0;31mValueError\u001b[0m                                Traceback (most recent call last)",
      "\u001b[0;32m<ipython-input-28-84d2b17c74fb>\u001b[0m in \u001b[0;36m<module>\u001b[0;34m()\u001b[0m\n\u001b[1;32m      3\u001b[0m \u001b[0mgraph\u001b[0m \u001b[0;34m=\u001b[0m \u001b[0mtf\u001b[0m\u001b[0;34m.\u001b[0m\u001b[0mGraph\u001b[0m\u001b[0;34m(\u001b[0m\u001b[0;34m)\u001b[0m\u001b[0;34m\u001b[0m\u001b[0m\n\u001b[1;32m      4\u001b[0m \u001b[0;32mwith\u001b[0m \u001b[0mgraph\u001b[0m\u001b[0;34m.\u001b[0m\u001b[0mas_default\u001b[0m\u001b[0;34m(\u001b[0m\u001b[0;34m)\u001b[0m\u001b[0;34m:\u001b[0m\u001b[0;34m\u001b[0m\u001b[0m\n\u001b[0;32m----> 5\u001b[0;31m     \u001b[0mtf_train_dataset\u001b[0m \u001b[0;34m=\u001b[0m \u001b[0mtf\u001b[0m\u001b[0;34m.\u001b[0m\u001b[0mconstant\u001b[0m\u001b[0;34m(\u001b[0m\u001b[0mx_train\u001b[0m\u001b[0;34m,\u001b[0m\u001b[0mshape\u001b[0m\u001b[0;34m=\u001b[0m\u001b[0;34m[\u001b[0m\u001b[0;36m20008\u001b[0m\u001b[0;34m,\u001b[0m \u001b[0;36m10\u001b[0m\u001b[0;34m]\u001b[0m\u001b[0;34m)\u001b[0m\u001b[0;34m\u001b[0m\u001b[0m\n\u001b[0m\u001b[1;32m      6\u001b[0m     \u001b[0mtf_train_labels\u001b[0m \u001b[0;34m=\u001b[0m \u001b[0mtf\u001b[0m\u001b[0;34m.\u001b[0m\u001b[0mconstant\u001b[0m\u001b[0;34m(\u001b[0m\u001b[0my_train\u001b[0m\u001b[0;34m[\u001b[0m\u001b[0;34m:\u001b[0m\u001b[0;34m]\u001b[0m\u001b[0;34m)\u001b[0m\u001b[0;34m\u001b[0m\u001b[0m\n\u001b[1;32m      7\u001b[0m     \u001b[0mtf_valid_dataset\u001b[0m \u001b[0;34m=\u001b[0m \u001b[0mtf\u001b[0m\u001b[0;34m.\u001b[0m\u001b[0mconstant\u001b[0m\u001b[0;34m(\u001b[0m\u001b[0mx_test\u001b[0m\u001b[0;34m[\u001b[0m\u001b[0;34m:\u001b[0m\u001b[0;34m]\u001b[0m\u001b[0;34m)\u001b[0m\u001b[0;34m\u001b[0m\u001b[0m\n",
      "\u001b[0;32m//anaconda/envs/py27/lib/python2.7/site-packages/tensorflow/python/ops/constant_op.pyc\u001b[0m in \u001b[0;36mconstant\u001b[0;34m(value, dtype, shape, name)\u001b[0m\n\u001b[1;32m    160\u001b[0m   \u001b[0mtensor_value\u001b[0m \u001b[0;34m=\u001b[0m \u001b[0mattr_value_pb2\u001b[0m\u001b[0;34m.\u001b[0m\u001b[0mAttrValue\u001b[0m\u001b[0;34m(\u001b[0m\u001b[0;34m)\u001b[0m\u001b[0;34m\u001b[0m\u001b[0m\n\u001b[1;32m    161\u001b[0m   tensor_value.tensor.CopyFrom(\n\u001b[0;32m--> 162\u001b[0;31m       tensor_util.make_tensor_proto(value, dtype=dtype, shape=shape))\n\u001b[0m\u001b[1;32m    163\u001b[0m   \u001b[0mdtype_value\u001b[0m \u001b[0;34m=\u001b[0m \u001b[0mattr_value_pb2\u001b[0m\u001b[0;34m.\u001b[0m\u001b[0mAttrValue\u001b[0m\u001b[0;34m(\u001b[0m\u001b[0mtype\u001b[0m\u001b[0;34m=\u001b[0m\u001b[0mtensor_value\u001b[0m\u001b[0;34m.\u001b[0m\u001b[0mtensor\u001b[0m\u001b[0;34m.\u001b[0m\u001b[0mdtype\u001b[0m\u001b[0;34m)\u001b[0m\u001b[0;34m\u001b[0m\u001b[0m\n\u001b[1;32m    164\u001b[0m   const_tensor = g.create_op(\n",
      "\u001b[0;32m//anaconda/envs/py27/lib/python2.7/site-packages/tensorflow/python/framework/tensor_util.pyc\u001b[0m in \u001b[0;36mmake_tensor_proto\u001b[0;34m(values, dtype, shape)\u001b[0m\n\u001b[1;32m    360\u001b[0m                          \"\"\" - got shape %s, but wanted %s.\"\"\" % (\n\u001b[1;32m    361\u001b[0m                              \u001b[0mvalues\u001b[0m\u001b[0;34m,\u001b[0m \u001b[0mlist\u001b[0m\u001b[0;34m(\u001b[0m\u001b[0mnparray\u001b[0m\u001b[0;34m.\u001b[0m\u001b[0mshape\u001b[0m\u001b[0;34m)\u001b[0m\u001b[0;34m,\u001b[0m\u001b[0;34m\u001b[0m\u001b[0m\n\u001b[0;32m--> 362\u001b[0;31m                              _GetDenseDimensions(values)))\n\u001b[0m\u001b[1;32m    363\u001b[0m \u001b[0;34m\u001b[0m\u001b[0m\n\u001b[1;32m    364\u001b[0m     \u001b[0;31m# python/numpy default float type is float64. We prefer float32 instead.\u001b[0m\u001b[0;34m\u001b[0m\u001b[0;34m\u001b[0m\u001b[0m\n",
      "\u001b[0;31mValueError\u001b[0m: Argument must be a dense tensor:        S1  C1  S2  C2  S3  C3  S4  C4  S5  C5\n10980   2  12   4   6   4   5   1   9   3   2\n20962   1   5   1  13   2   6   3  12   2   1\n17169   2  12   3   1   2  11   1  12   4  13\n9592    4   8   4  10   4   5   1  11   1   9\n4022    1   8   1   4   2  10   2   5   2   9\n...    ..  ..  ..  ..  ..  ..  ..  ..  ..  ..\n13123   4  11   2   5   1   4   1   9   4   7\n19648   1   9   4   3   4   4   2   2   4  13\n9845    4   5   2  12   1  10   3   5   4   4\n10799   4  12   1  13   1   9   3   6   4   8\n2732    1  11   3   5   1  12   4   5   4   2\n\n[20008 rows x 10 columns] - got shape [20008, 10], but wanted []."
     ]
    }
   ],
   "source": [
    "import tensorflow as tf\n",
    "\n",
    "graph = tf.Graph()\n",
    "with graph.as_default():\n",
    "    tf_train_dataset = tf.constant(x_train,shape=[20008, 10])\n",
    "    tf_train_labels = tf.constant(y_train[:])\n",
    "    tf_valid_dataset = tf.constant(x_test[:])\n",
    "    \n",
    "    weights = tf.Variable(tf.truncated_normal([10, 10]))\n",
    "    biases = tf.Variable(tf.zeros(10))\n",
    "    \n",
    "    logits = tf.matmul(tf_train_dataset, weights) + biases\n",
    "    loss = tf.reduce_mean(tf.nn.softmax_cross_entropy_with_logits(logits, tf_train_labels))\n",
    "    \n",
    "    optimizer = tf.train.GradientDescentOptimizer(0.5).minimize(loss)\n",
    "    \n",
    "    train_prediction = tf.nn.softmax(logits)\n",
    "    valid_prediction = tf.nn.softmax(tf.matmul(tf_valid_dataset, weights) + biases)"
   ]
  },
  {
   "cell_type": "code",
   "execution_count": null,
   "metadata": {
    "collapsed": true
   },
   "outputs": [],
   "source": []
  }
 ],
 "metadata": {
  "kernelspec": {
   "display_name": "Python 2",
   "language": "python",
   "name": "python2"
  },
  "language_info": {
   "codemirror_mode": {
    "name": "ipython",
    "version": 2
   },
   "file_extension": ".py",
   "mimetype": "text/x-python",
   "name": "python",
   "nbconvert_exporter": "python",
   "pygments_lexer": "ipython2",
   "version": "2.7.12"
  }
 },
 "nbformat": 4,
 "nbformat_minor": 0
}
